{
 "cells": [
  {
   "cell_type": "code",
   "execution_count": 1,
   "id": "d156d218",
   "metadata": {},
   "outputs": [],
   "source": [
    "import pandas as pd\n",
    "import numpy as np"
   ]
  },
  {
   "cell_type": "code",
   "execution_count": 2,
   "id": "9467050b",
   "metadata": {},
   "outputs": [],
   "source": [
    "def check_int(value):\n",
    "    try:\n",
    "        int(value)\n",
    "        return np.NaN\n",
    "    except ValueError:\n",
    "        return value"
   ]
  },
  {
   "cell_type": "code",
   "execution_count": 3,
   "id": "9fdebb7d",
   "metadata": {},
   "outputs": [
    {
     "name": "stdout",
     "output_type": "stream",
     "text": [
      "      customer_id                    address  postcode            state  \\\n",
      "0               1         060 Morning Avenue      2016  New South Wales   \n",
      "1               2        6 Meadow Vale Court      2153  New South Wales   \n",
      "2               4         0 Holy Cross Court      4211              QLD   \n",
      "3               5        17979 Del Mar Point      2448  New South Wales   \n",
      "4               6           9 Oakridge Court      3216              VIC   \n",
      "...           ...                        ...       ...              ...   \n",
      "3994         3999            1482 Hauk Trail      3064              VIC   \n",
      "3995         4000  57042 Village Green Point      4511              QLD   \n",
      "3996         4001     87 Crescent Oaks Alley      2756              NSW   \n",
      "3997         4002           8194 Lien Street      4032              QLD   \n",
      "3998         4003            320 Acker Drive      2251              NSW   \n",
      "\n",
      "        country  property_valuation  \n",
      "0     Australia                  10  \n",
      "1     Australia                  10  \n",
      "2     Australia                   9  \n",
      "3     Australia                   4  \n",
      "4     Australia                   9  \n",
      "...         ...                 ...  \n",
      "3994  Australia                   3  \n",
      "3995  Australia                   6  \n",
      "3996  Australia                  10  \n",
      "3997  Australia                   7  \n",
      "3998  Australia                   7  \n",
      "\n",
      "[3999 rows x 6 columns]\n"
     ]
    }
   ],
   "source": [
    "df = pd.read_excel(r'KPMG.xlsx' ,\n",
    "                   sheet_name='CustomerAddress',\n",
    "                  )\n",
    "print(df)"
   ]
  },
  {
   "cell_type": "code",
   "execution_count": 4,
   "id": "5d711b47",
   "metadata": {},
   "outputs": [
    {
     "data": {
      "text/html": [
       "<div>\n",
       "<style scoped>\n",
       "    .dataframe tbody tr th:only-of-type {\n",
       "        vertical-align: middle;\n",
       "    }\n",
       "\n",
       "    .dataframe tbody tr th {\n",
       "        vertical-align: top;\n",
       "    }\n",
       "\n",
       "    .dataframe thead th {\n",
       "        text-align: right;\n",
       "    }\n",
       "</style>\n",
       "<table border=\"1\" class=\"dataframe\">\n",
       "  <thead>\n",
       "    <tr style=\"text-align: right;\">\n",
       "      <th></th>\n",
       "      <th>customer_id</th>\n",
       "      <th>address</th>\n",
       "      <th>postcode</th>\n",
       "      <th>state</th>\n",
       "      <th>country</th>\n",
       "      <th>property_valuation</th>\n",
       "    </tr>\n",
       "  </thead>\n",
       "  <tbody>\n",
       "    <tr>\n",
       "      <th>0</th>\n",
       "      <td>1</td>\n",
       "      <td>060 Morning Avenue</td>\n",
       "      <td>2016</td>\n",
       "      <td>New South Wales</td>\n",
       "      <td>Australia</td>\n",
       "      <td>10</td>\n",
       "    </tr>\n",
       "    <tr>\n",
       "      <th>1</th>\n",
       "      <td>2</td>\n",
       "      <td>6 Meadow Vale Court</td>\n",
       "      <td>2153</td>\n",
       "      <td>New South Wales</td>\n",
       "      <td>Australia</td>\n",
       "      <td>10</td>\n",
       "    </tr>\n",
       "    <tr>\n",
       "      <th>2</th>\n",
       "      <td>4</td>\n",
       "      <td>0 Holy Cross Court</td>\n",
       "      <td>4211</td>\n",
       "      <td>QLD</td>\n",
       "      <td>Australia</td>\n",
       "      <td>9</td>\n",
       "    </tr>\n",
       "    <tr>\n",
       "      <th>3</th>\n",
       "      <td>5</td>\n",
       "      <td>17979 Del Mar Point</td>\n",
       "      <td>2448</td>\n",
       "      <td>New South Wales</td>\n",
       "      <td>Australia</td>\n",
       "      <td>4</td>\n",
       "    </tr>\n",
       "    <tr>\n",
       "      <th>4</th>\n",
       "      <td>6</td>\n",
       "      <td>9 Oakridge Court</td>\n",
       "      <td>3216</td>\n",
       "      <td>VIC</td>\n",
       "      <td>Australia</td>\n",
       "      <td>9</td>\n",
       "    </tr>\n",
       "  </tbody>\n",
       "</table>\n",
       "</div>"
      ],
      "text/plain": [
       "   customer_id              address  postcode            state    country  \\\n",
       "0            1   060 Morning Avenue      2016  New South Wales  Australia   \n",
       "1            2  6 Meadow Vale Court      2153  New South Wales  Australia   \n",
       "2            4   0 Holy Cross Court      4211              QLD  Australia   \n",
       "3            5  17979 Del Mar Point      2448  New South Wales  Australia   \n",
       "4            6     9 Oakridge Court      3216              VIC  Australia   \n",
       "\n",
       "   property_valuation  \n",
       "0                  10  \n",
       "1                  10  \n",
       "2                   9  \n",
       "3                   4  \n",
       "4                   9  "
      ]
     },
     "execution_count": 4,
     "metadata": {},
     "output_type": "execute_result"
    }
   ],
   "source": [
    "df.head()"
   ]
  },
  {
   "cell_type": "code",
   "execution_count": 5,
   "id": "d50115a6",
   "metadata": {},
   "outputs": [
    {
     "data": {
      "text/html": [
       "<div>\n",
       "<style scoped>\n",
       "    .dataframe tbody tr th:only-of-type {\n",
       "        vertical-align: middle;\n",
       "    }\n",
       "\n",
       "    .dataframe tbody tr th {\n",
       "        vertical-align: top;\n",
       "    }\n",
       "\n",
       "    .dataframe thead th {\n",
       "        text-align: right;\n",
       "    }\n",
       "</style>\n",
       "<table border=\"1\" class=\"dataframe\">\n",
       "  <thead>\n",
       "    <tr style=\"text-align: right;\">\n",
       "      <th></th>\n",
       "      <th>customer_id</th>\n",
       "      <th>postcode</th>\n",
       "      <th>property_valuation</th>\n",
       "    </tr>\n",
       "  </thead>\n",
       "  <tbody>\n",
       "    <tr>\n",
       "      <th>count</th>\n",
       "      <td>3999.000000</td>\n",
       "      <td>3999.000000</td>\n",
       "      <td>3999.000000</td>\n",
       "    </tr>\n",
       "    <tr>\n",
       "      <th>mean</th>\n",
       "      <td>2003.987997</td>\n",
       "      <td>2985.755939</td>\n",
       "      <td>7.514379</td>\n",
       "    </tr>\n",
       "    <tr>\n",
       "      <th>std</th>\n",
       "      <td>1154.576912</td>\n",
       "      <td>844.878364</td>\n",
       "      <td>2.824663</td>\n",
       "    </tr>\n",
       "    <tr>\n",
       "      <th>min</th>\n",
       "      <td>1.000000</td>\n",
       "      <td>2000.000000</td>\n",
       "      <td>1.000000</td>\n",
       "    </tr>\n",
       "    <tr>\n",
       "      <th>25%</th>\n",
       "      <td>1004.500000</td>\n",
       "      <td>2200.000000</td>\n",
       "      <td>6.000000</td>\n",
       "    </tr>\n",
       "    <tr>\n",
       "      <th>50%</th>\n",
       "      <td>2004.000000</td>\n",
       "      <td>2768.000000</td>\n",
       "      <td>8.000000</td>\n",
       "    </tr>\n",
       "    <tr>\n",
       "      <th>75%</th>\n",
       "      <td>3003.500000</td>\n",
       "      <td>3750.000000</td>\n",
       "      <td>10.000000</td>\n",
       "    </tr>\n",
       "    <tr>\n",
       "      <th>max</th>\n",
       "      <td>4003.000000</td>\n",
       "      <td>4883.000000</td>\n",
       "      <td>12.000000</td>\n",
       "    </tr>\n",
       "  </tbody>\n",
       "</table>\n",
       "</div>"
      ],
      "text/plain": [
       "       customer_id     postcode  property_valuation\n",
       "count  3999.000000  3999.000000         3999.000000\n",
       "mean   2003.987997  2985.755939            7.514379\n",
       "std    1154.576912   844.878364            2.824663\n",
       "min       1.000000  2000.000000            1.000000\n",
       "25%    1004.500000  2200.000000            6.000000\n",
       "50%    2004.000000  2768.000000            8.000000\n",
       "75%    3003.500000  3750.000000           10.000000\n",
       "max    4003.000000  4883.000000           12.000000"
      ]
     },
     "execution_count": 5,
     "metadata": {},
     "output_type": "execute_result"
    }
   ],
   "source": [
    "df.describe()"
   ]
  },
  {
   "cell_type": "code",
   "execution_count": 6,
   "id": "a036cea1",
   "metadata": {},
   "outputs": [
    {
     "name": "stdout",
     "output_type": "stream",
     "text": [
      "<class 'pandas.core.frame.DataFrame'>\n",
      "RangeIndex: 3999 entries, 0 to 3998\n",
      "Data columns (total 6 columns):\n",
      " #   Column              Non-Null Count  Dtype \n",
      "---  ------              --------------  ----- \n",
      " 0   customer_id         3999 non-null   Int64 \n",
      " 1   address             3999 non-null   string\n",
      " 2   postcode            3999 non-null   Int64 \n",
      " 3   state               3999 non-null   string\n",
      " 4   country             3999 non-null   string\n",
      " 5   property_valuation  3999 non-null   Int64 \n",
      "dtypes: Int64(3), string(3)\n",
      "memory usage: 199.3 KB\n"
     ]
    }
   ],
   "source": [
    "df1 = df.convert_dtypes()\n",
    "df1.info()"
   ]
  },
  {
   "cell_type": "code",
   "execution_count": 7,
   "id": "be40f0e1",
   "metadata": {},
   "outputs": [
    {
     "name": "stdout",
     "output_type": "stream",
     "text": [
      "<class 'pandas.core.frame.DataFrame'>\n",
      "RangeIndex: 3999 entries, 0 to 3998\n",
      "Data columns (total 6 columns):\n",
      " #   Column              Non-Null Count  Dtype \n",
      "---  ------              --------------  ----- \n",
      " 0   customer_id         3999 non-null   int64 \n",
      " 1   address             3999 non-null   object\n",
      " 2   postcode            3999 non-null   int64 \n",
      " 3   state               3999 non-null   object\n",
      " 4   country             3999 non-null   object\n",
      " 5   property_valuation  3999 non-null   int64 \n",
      "dtypes: int64(3), object(3)\n",
      "memory usage: 187.6+ KB\n"
     ]
    }
   ],
   "source": [
    "df.info()"
   ]
  },
  {
   "cell_type": "code",
   "execution_count": 8,
   "id": "1dfc20b6",
   "metadata": {},
   "outputs": [
    {
     "name": "stdout",
     "output_type": "stream",
     "text": [
      "Missing Values\n",
      "customer_id           0\n",
      "address               0\n",
      "postcode              0\n",
      "state                 0\n",
      "country               0\n",
      "property_valuation    0\n",
      "dtype: int64\n"
     ]
    }
   ],
   "source": [
    "nan_count = df1.isna().sum() \n",
    "print(\"Missing Values\")\n",
    "print(nan_count)"
   ]
  },
  {
   "cell_type": "code",
   "execution_count": 9,
   "id": "9f2104fb",
   "metadata": {
    "scrolled": false
   },
   "outputs": [
    {
     "name": "stdout",
     "output_type": "stream",
     "text": [
      "0 Missing values on  customer_id\n",
      "0 Missing values on  address\n",
      "0 Missing values on  postcode\n",
      "0 Missing values on  state\n",
      "0 Missing values on  country\n",
      "0 Missing values on  property_valuation\n",
      "0 Missing values\n"
     ]
    }
   ],
   "source": [
    "na_count = 0\n",
    "for column in df1:\n",
    "    print(df[column].isna().sum(),\"Missing values on \", column)\n",
    "    na_count = na_count + df[column].isna().sum()\n",
    "    \n",
    "#newdf = df.dropna() if necessary\n",
    "print(na_count,\"Missing values\")"
   ]
  },
  {
   "cell_type": "code",
   "execution_count": 10,
   "id": "855b5a52",
   "metadata": {},
   "outputs": [
    {
     "name": "stdout",
     "output_type": "stream",
     "text": [
      "The Completeness of the data is  100.0 %\n"
     ]
    }
   ],
   "source": [
    "Na_Percentage = df1.isna().sum().sum() / df.size * 100\n",
    "Completeness = 100 - Na_Percentage\n",
    "print (\"The Completeness of the data is \", Completeness , \"%\" )"
   ]
  },
  {
   "cell_type": "code",
   "execution_count": 11,
   "id": "df233327",
   "metadata": {},
   "outputs": [],
   "source": [
    "#df1['DOB'] = pd.to_datetime(df1['DOB'])"
   ]
  },
  {
   "cell_type": "code",
   "execution_count": 12,
   "id": "53067795",
   "metadata": {},
   "outputs": [
    {
     "name": "stdout",
     "output_type": "stream",
     "text": [
      "There is 0 duplicated rows\n"
     ]
    }
   ],
   "source": [
    "#Tests\n",
    "print(\"There is\", df.duplicated().sum(), \"duplicated rows\")\n",
    "#df.drop_duplicates(inplace = True) inplace(remove from original DataFrame)\n"
   ]
  },
  {
   "cell_type": "code",
   "execution_count": 13,
   "id": "e50b8003",
   "metadata": {},
   "outputs": [
    {
     "name": "stdout",
     "output_type": "stream",
     "text": [
      "Unique Values\n",
      "customer_id\n",
      "<IntegerArray>\n",
      "[   1,    2,    4,    5,    6,    7,    8,    9,   11,   12,\n",
      " ...\n",
      " 3994, 3995, 3996, 3997, 3998, 3999, 4000, 4001, 4002, 4003]\n",
      "Length: 3999, dtype: Int64\n",
      "address\n",
      "<StringArray>\n",
      "[       '060 Morning Avenue',       '6 Meadow Vale Court',\n",
      "        '0 Holy Cross Court',       '17979 Del Mar Point',\n",
      "          '9 Oakridge Court',          '4 Delaware Trail',\n",
      "       '49 Londonderry Lane',           '97736 7th Trail',\n",
      "      '93405 Ludington Park',   '44339 Golden Leaf Alley',\n",
      " ...\n",
      "    '2918 Summer Ridge Hill',             '613 Erie Lane',\n",
      "        '0 Transport Center',       '4 Dovetail Crossing',\n",
      "      '736 Roxbury Junction',           '1482 Hauk Trail',\n",
      " '57042 Village Green Point',    '87 Crescent Oaks Alley',\n",
      "          '8194 Lien Street',           '320 Acker Drive']\n",
      "Length: 3996, dtype: string\n",
      "postcode\n",
      "<IntegerArray>\n",
      "[2016, 2153, 4211, 2448, 3216, 2210, 2650, 2023, 3044, 4557,\n",
      " ...\n",
      " 3104, 3860, 2658, 3052, 4163, 2590, 2550, 2877, 4311, 3089]\n",
      "Length: 873, dtype: Int64\n",
      "state\n",
      "<StringArray>\n",
      "['New South Wales', 'QLD', 'VIC', 'NSW', 'Victoria']\n",
      "Length: 5, dtype: string\n",
      "country\n",
      "<StringArray>\n",
      "['Australia']\n",
      "Length: 1, dtype: string\n",
      "property_valuation\n",
      "<IntegerArray>\n",
      "[10, 9, 4, 12, 8, 6, 7, 3, 5, 11, 1, 2]\n",
      "Length: 12, dtype: Int64\n"
     ]
    }
   ],
   "source": [
    "print(\"Unique Values\")\n",
    "for column in df1:\n",
    "    print(column)\n",
    "    print(pd.unique(df1[column]))"
   ]
  },
  {
   "cell_type": "code",
   "execution_count": null,
   "id": "efa99fd1",
   "metadata": {},
   "outputs": [],
   "source": []
  }
 ],
 "metadata": {
  "kernelspec": {
   "display_name": "Python 3 (ipykernel)",
   "language": "python",
   "name": "python3"
  },
  "language_info": {
   "codemirror_mode": {
    "name": "ipython",
    "version": 3
   },
   "file_extension": ".py",
   "mimetype": "text/x-python",
   "name": "python",
   "nbconvert_exporter": "python",
   "pygments_lexer": "ipython3",
   "version": "3.9.13"
  }
 },
 "nbformat": 4,
 "nbformat_minor": 5
}
