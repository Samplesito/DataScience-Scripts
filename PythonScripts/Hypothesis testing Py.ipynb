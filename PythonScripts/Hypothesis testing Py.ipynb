{
 "cells": [
  {
   "cell_type": "code",
   "execution_count": 2,
   "id": "740d6cd6",
   "metadata": {},
   "outputs": [
    {
     "name": "stdout",
     "output_type": "stream",
     "text": [
      "Libraries Loaded!\n"
     ]
    }
   ],
   "source": [
    "import seaborn as sns\n",
    "import pandas as pd\n",
    "#import matplotlib as plt\n",
    "import matplotlib.pyplot as plt\n",
    "import numpy as np\n",
    "from scipy import stats\n",
    "print(\"Libraries Loaded!\")"
   ]
  },
  {
   "cell_type": "code",
   "execution_count": 3,
   "id": "a6c9e78c",
   "metadata": {},
   "outputs": [
    {
     "ename": "SyntaxError",
     "evalue": "invalid syntax (3476472120.py, line 3)",
     "output_type": "error",
     "traceback": [
      "\u001b[1;36m  File \u001b[1;32m\"C:\\Users\\JoseLuis\\AppData\\Local\\Temp\\ipykernel_16704\\3476472120.py\"\u001b[1;36m, line \u001b[1;32m3\u001b[0m\n\u001b[1;33m    parameter_column_1 = df1[\"Column\"] ==\u001b[0m\n\u001b[1;37m                                         ^\u001b[0m\n\u001b[1;31mSyntaxError\u001b[0m\u001b[1;31m:\u001b[0m invalid syntax\n"
     ]
    }
   ],
   "source": [
    "#Loading and Sampling\n",
    "df1 = pd.read_csv(\".csv\")\n",
    "df2 = pd.read_csv(\".csv\")\n",
    "parameter_column_1 = df1[\"Column\"] == COND_1\n",
    "parameter_column_2 = df2[\"Column\"] == COND_2\n",
    "df1_sample = df1.sample[n=20 , random_state=31052 , replace= True]\n",
    "df2_sample = df2.sample[n=20 , random_state=32502 , raplace= True]"
   ]
  },
  {
   "cell_type": "code",
   "execution_count": 1,
   "id": "53c41d2b",
   "metadata": {},
   "outputs": [
    {
     "ename": "SyntaxError",
     "evalue": "cannot assign to function call (136461620.py, line 5)",
     "output_type": "error",
     "traceback": [
      "\u001b[1;36m  File \u001b[1;32m\"C:\\Users\\JoseLuis\\AppData\\Local\\Temp\\ipykernel_2800\\136461620.py\"\u001b[1;36m, line \u001b[1;32m5\u001b[0m\n\u001b[1;33m    stats.ttest_ind(a=df1_sample_mean[\"Column\"], b=df2_sample_mean[\"Column\"]),equal_var=False)\u001b[0m\n\u001b[1;37m    ^\u001b[0m\n\u001b[1;31mSyntaxError\u001b[0m\u001b[1;31m:\u001b[0m cannot assign to function call\n"
     ]
    }
   ],
   "source": [
    "#Calculating mean\n",
    "mean1 = df1_sample_mean[\"Column\"].mean()  \n",
    "mean2 = df2_sample_mean[\"Column\"].mean()\n",
    "df2_sample_mean[\"Column\"].mean() - df1_sample_mean[\"Column\"].mean()\n",
    "stats.ttest_ind(a=df1_sample_mean[\"Column\"], b=df2_sample_mean[\"Column\"]),equal_var=False)\n"
   ]
  },
  {
   "cell_type": "code",
   "execution_count": 1,
   "id": "3889da3a",
   "metadata": {},
   "outputs": [
    {
     "ename": "NameError",
     "evalue": "name 'sns' is not defined",
     "output_type": "error",
     "traceback": [
      "\u001b[1;31m---------------------------------------------------------------------------\u001b[0m",
      "\u001b[1;31mNameError\u001b[0m                                 Traceback (most recent call last)",
      "\u001b[1;32m~\\AppData\\Local\\Temp\\ipykernel_19636\\1310906508.py\u001b[0m in \u001b[0;36m<module>\u001b[1;34m\u001b[0m\n\u001b[0;32m      1\u001b[0m \u001b[1;31m# Create pairwise scatterplots of data, useful for looking for relations in variables\u001b[0m\u001b[1;33m\u001b[0m\u001b[1;33m\u001b[0m\u001b[0m\n\u001b[0;32m      2\u001b[0m \u001b[1;31m# Check for Linearity, Normality and if they are Independent Observations.\u001b[0m\u001b[1;33m\u001b[0m\u001b[1;33m\u001b[0m\u001b[0m\n\u001b[1;32m----> 3\u001b[1;33m \u001b[0msns\u001b[0m\u001b[1;33m.\u001b[0m\u001b[0mpairplot\u001b[0m\u001b[1;33m(\u001b[0m\u001b[0mdf\u001b[0m\u001b[1;33m)\u001b[0m\u001b[1;33m\u001b[0m\u001b[1;33m\u001b[0m\u001b[0m\n\u001b[0m",
      "\u001b[1;31mNameError\u001b[0m: name 'sns' is not defined"
     ]
    }
   ],
   "source": [
    "# Create pairwise scatterplots of data, useful for looking for relations in variables\n",
    "# Check for Linearity, Normality and if they are Independent Observations.\n",
    "sns.pairplot(df)"
   ]
  },
  {
   "cell_type": "code",
   "execution_count": null,
   "id": "ca3b6428",
   "metadata": {},
   "outputs": [],
   "source": []
  }
 ],
 "metadata": {
  "kernelspec": {
   "display_name": "Python 3 (ipykernel)",
   "language": "python",
   "name": "python3"
  },
  "language_info": {
   "codemirror_mode": {
    "name": "ipython",
    "version": 3
   },
   "file_extension": ".py",
   "mimetype": "text/x-python",
   "name": "python",
   "nbconvert_exporter": "python",
   "pygments_lexer": "ipython3",
   "version": "3.9.13"
  }
 },
 "nbformat": 4,
 "nbformat_minor": 5
}
