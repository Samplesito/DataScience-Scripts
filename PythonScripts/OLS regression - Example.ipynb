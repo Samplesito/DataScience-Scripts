{
 "cells": [
  {
   "cell_type": "code",
   "execution_count": null,
   "id": "a365d08a",
   "metadata": {},
   "outputs": [],
   "source": [
    "import seaborn as sns\n",
    "import pandas as pd\n",
    "import matplotlib as plt\n",
    "#import matplotlib.pyplot as plt\n",
    "import numpy as np\n",
    "from scipy import stats\n",
    "from statsmodels.formula.api import ols\n",
    "import statsmodels.api as sm\n",
    "from pandas_profiling import ProfileReport\n",
    "print(\"Libraries Loaded!\")"
   ]
  },
  {
   "cell_type": "code",
   "execution_count": null,
   "id": "7810230a",
   "metadata": {},
   "outputs": [],
   "source": [
    "#Loading, some info and Sampling, 42 its a standard for random state.\n",
    "df = pd.read_csv(\".csv\")\n",
    "profile = ProfileReport(df)\n",
    "profile.to_widgets()\n",
    "df_sample = df.sample(n= 50, replace= True, random_state= 42)"
   ]
  },
  {
   "cell_type": "code",
   "execution_count": null,
   "id": "e3c05f4c",
   "metadata": {},
   "outputs": [],
   "source": [
    "# Create pairwise scatterplots of data, useful for looking for relations in variables\n",
    "# Check for Linearity, Normality and if they are Independent Observations.\n",
    "sns.pairplot(df)"
   ]
  },
  {
   "cell_type": "code",
   "execution_count": null,
   "id": "ae7ef063",
   "metadata": {},
   "outputs": [],
   "source": [
    "#Data setting\n",
    "ols_data = df_sample[[\"Column1\",\"Column2\"]]\n",
    "ols_formula = \"Column1 ~ Column 2\""
   ]
  },
  {
   "cell_type": "code",
   "execution_count": null,
   "id": "ab7347da",
   "metadata": {},
   "outputs": [],
   "source": [
    "###OLS\n",
    "OLS = ols(formula = ols_formula, data= ols_data)\n",
    "model = OLS.fit()\n",
    "model.summary()"
   ]
  },
  {
   "cell_type": "code",
   "execution_count": null,
   "id": "442fe5fc",
   "metadata": {},
   "outputs": [],
   "source": [
    "#subset X var\n",
    "x = ols_data[\"column1\"]\n",
    "# Predictions from model\n",
    "fitted_values = model.prict(x)\n",
    "# Residuals\n",
    "residuals = model.resid"
   ]
  },
  {
   "cell_type": "code",
   "execution_count": null,
   "id": "5f4cccc0",
   "metadata": {},
   "outputs": [],
   "source": [
    "#graphing the residuals\n",
    "sns.regplot(x = \"column1\", y = \"Coiumn2\", data=ols_data)\n",
    "\n",
    "#Graphing \n",
    "\n",
    "fig = sns.scatterplot(fitted_values, residuals)\n",
    "fig.axhline(0)\n",
    "fig.set_xlabel(\"Fitted Values by Model\")\n",
    "fig.set_ylabel(\"Residuals\")\n",
    "plt.show\n",
    "\n",
    "#Graphing \n",
    "\n",
    "fig = sns.histogram(residuals)\n",
    "fig.set_xlabel(\"Fitted Values by Model\")\n",
    "fig.set_title\"Histogram of Residuals\")\n",
    "plt.show\n",
    "\n",
    "#Graphing \n",
    "\n",
    "fig = esm.qqplot(model.resid, line= \"s\")\n",
    "plt.shot()"
   ]
  }
 ],
 "metadata": {
  "kernelspec": {
   "display_name": "Python 3 (ipykernel)",
   "language": "python",
   "name": "python3"
  },
  "language_info": {
   "codemirror_mode": {
    "name": "ipython",
    "version": 3
   },
   "file_extension": ".py",
   "mimetype": "text/x-python",
   "name": "python",
   "nbconvert_exporter": "python",
   "pygments_lexer": "ipython3",
   "version": "3.9.13"
  }
 },
 "nbformat": 4,
 "nbformat_minor": 5
}
