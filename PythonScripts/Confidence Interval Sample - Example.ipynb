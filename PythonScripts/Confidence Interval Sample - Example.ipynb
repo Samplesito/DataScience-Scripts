{
 "cells": [
  {
   "cell_type": "code",
   "execution_count": 7,
   "id": "b2fc038a",
   "metadata": {},
   "outputs": [
    {
     "name": "stdout",
     "output_type": "stream",
     "text": [
      "Libraries Loaded!\n"
     ]
    }
   ],
   "source": [
    "import seaborn as sns\n",
    "import pandas as pd\n",
    "import matplotlib as plt\n",
    "import numpy as np\n",
    "from scipy import stats\n",
    "print(\"Libraries Loaded!\")"
   ]
  },
  {
   "cell_type": "code",
   "execution_count": null,
   "id": "0c60c558",
   "metadata": {},
   "outputs": [],
   "source": [
    "#reading and sampling\n",
    "df = pd.read_csv(\".csv\")\n",
    "df_sample = df.sample(n= 50, replace= True, random_state= 31208)"
   ]
  },
  {
   "cell_type": "code",
   "execution_count": null,
   "id": "6837250f",
   "metadata": {},
   "outputs": [],
   "source": [
    "#mean\n",
    "df_mean = df['colmunX'].mean()\n",
    "df_mean"
   ]
  },
  {
   "cell_type": "code",
   "execution_count": null,
   "id": "7e181da7",
   "metadata": {},
   "outputs": [],
   "source": [
    "#standar error\n",
    "df_se = df_sample['columnX'].std / np.sqrt(df_sample.shape[0])"
   ]
  },
  {
   "cell_type": "code",
   "execution_count": null,
   "id": "51998074",
   "metadata": {},
   "outputs": [],
   "source": [
    "#Confidence interval for 95%\n",
    "stats.norm.interval(alpha=0.95, loc=df_mean, scale = df_se)"
   ]
  },
  {
   "cell_type": "code",
   "execution_count": null,
   "id": "ebc8cdcd",
   "metadata": {},
   "outputs": [],
   "source": []
  }
 ],
 "metadata": {
  "kernelspec": {
   "display_name": "Python 3 (ipykernel)",
   "language": "python",
   "name": "python3"
  },
  "language_info": {
   "codemirror_mode": {
    "name": "ipython",
    "version": 3
   },
   "file_extension": ".py",
   "mimetype": "text/x-python",
   "name": "python",
   "nbconvert_exporter": "python",
   "pygments_lexer": "ipython3",
   "version": "3.9.13"
  }
 },
 "nbformat": 4,
 "nbformat_minor": 5
}
