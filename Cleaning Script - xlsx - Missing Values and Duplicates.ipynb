{
 "cells": [
  {
   "cell_type": "code",
   "execution_count": null,
   "id": "d156d218",
   "metadata": {},
   "outputs": [],
   "source": [
    "import pandas as pd\n",
    "import numpy as np"
   ]
  },
  {
   "cell_type": "code",
   "execution_count": null,
   "id": "9467050b",
   "metadata": {},
   "outputs": [],
   "source": [
    "def check_int(value):\n",
    "    try:\n",
    "        int(value)\n",
    "        return np.NaN\n",
    "    except ValueError:\n",
    "        return value"
   ]
  },
  {
   "cell_type": "code",
   "execution_count": null,
   "id": "9fdebb7d",
   "metadata": {},
   "outputs": [],
   "source": [
    "df = pd.read_excel(r'.xlsx' ,\n",
    "                   sheet_name='',\n",
    "                  )\n",
    "print(df)"
   ]
  },
  {
   "cell_type": "code",
   "execution_count": null,
   "id": "5d711b47",
   "metadata": {},
   "outputs": [],
   "source": [
    "df.head()"
   ]
  },
  {
   "cell_type": "code",
   "execution_count": null,
   "id": "d50115a6",
   "metadata": {},
   "outputs": [],
   "source": [
    "df.describe()"
   ]
  },
  {
   "cell_type": "code",
   "execution_count": null,
   "id": "a036cea1",
   "metadata": {},
   "outputs": [],
   "source": [
    "df1 = df.convert_dtypes()\n",
    "df1.info()"
   ]
  },
  {
   "cell_type": "code",
   "execution_count": null,
   "id": "be40f0e1",
   "metadata": {},
   "outputs": [],
   "source": [
    "df.info()"
   ]
  },
  {
   "cell_type": "code",
   "execution_count": null,
   "id": "1dfc20b6",
   "metadata": {},
   "outputs": [],
   "source": [
    "nan_count = df1.isna().sum() \n",
    "print(\"Missing Values\")\n",
    "print(nan_count)"
   ]
  },
  {
   "cell_type": "code",
   "execution_count": null,
   "id": "9f2104fb",
   "metadata": {
    "scrolled": false
   },
   "outputs": [],
   "source": [
    "na_count = 0\n",
    "for column in df1:\n",
    "    print(df[column].isna().sum(),\"Missing values on \", column)\n",
    "    na_count = na_count + df[column].isna().sum()\n",
    "    \n",
    "#newdf = df.dropna() if necessary\n",
    "print(na_count,\"Missing values\")"
   ]
  },
  {
   "cell_type": "code",
   "execution_count": null,
   "id": "855b5a52",
   "metadata": {},
   "outputs": [],
   "source": [
    "Na_Percentage = df1.isna().sum().sum() / df.size * 100\n",
    "Completeness = 100 - Na_Percentage\n",
    "print (\"The Completeness of the data is \", Completeness , \"%\" )"
   ]
  },
  {
   "cell_type": "code",
   "execution_count": null,
   "id": "df233327",
   "metadata": {},
   "outputs": [],
   "source": [
    "#df1['DOB'] = pd.to_datetime(df1['DOB'])"
   ]
  },
  {
   "cell_type": "code",
   "execution_count": null,
   "id": "53067795",
   "metadata": {},
   "outputs": [],
   "source": [
    "#Tests\n",
    "print(\"There is\", df.duplicated().sum(), \"duplicated rows\")\n",
    "#df.drop_duplicates(inplace = True) inplace(remove from original DataFrame)\n"
   ]
  },
  {
   "cell_type": "code",
   "execution_count": null,
   "id": "e50b8003",
   "metadata": {},
   "outputs": [],
   "source": [
    "print(\"Unique Values\")\n",
    "for column in df1:\n",
    "    print(column)\n",
    "    print(pd.unique(df1[column]))"
   ]
  },
  {
   "cell_type": "code",
   "execution_count": null,
   "id": "efa99fd1",
   "metadata": {},
   "outputs": [],
   "source": []
  }
 ],
 "metadata": {
  "kernelspec": {
   "display_name": "Python 3 (ipykernel)",
   "language": "python",
   "name": "python3"
  },
  "language_info": {
   "codemirror_mode": {
    "name": "ipython",
    "version": 3
   },
   "file_extension": ".py",
   "mimetype": "text/x-python",
   "name": "python",
   "nbconvert_exporter": "python",
   "pygments_lexer": "ipython3",
   "version": "3.9.13"
  }
 },
 "nbformat": 4,
 "nbformat_minor": 5
}
